{
 "cells": [
  {
   "cell_type": "code",
<<<<<<< Updated upstream
   "execution_count": 1,
   "id": "f78a71c6",
=======
   "execution_count": 2,
   "id": "5820dfbb",
>>>>>>> Stashed changes
   "metadata": {},
   "outputs": [
    {
     "name": "stdout",
     "output_type": "stream",
     "text": [
<<<<<<< Updated upstream
      "コミットからプッシュまでを行おう！\n"
=======
      "コミットからプッシュまでを行おうよ\n"
>>>>>>> Stashed changes
     ]
    }
   ],
   "source": [
<<<<<<< Updated upstream
    "print(\"コミットからプッシュまでを行おう！\")"
=======
    "print(\"コミットからプッシュまでを行おうよ\")"
>>>>>>> Stashed changes
   ]
  }
 ],
 "metadata": {
<<<<<<< Updated upstream
  "kernelspec": {
   "display_name": "Python 3",
   "language": "python",
   "name": "python3"
  },
  "language_info": {
   "codemirror_mode": {
    "name": "ipython",
    "version": 3
   },
   "file_extension": ".py",
   "mimetype": "text/x-python",
   "name": "python",
   "nbconvert_exporter": "python",
   "pygments_lexer": "ipython3",
   "version": "3.12.7"
=======
  "language_info": {
   "name": "python"
>>>>>>> Stashed changes
  }
 },
 "nbformat": 4,
 "nbformat_minor": 5
}
