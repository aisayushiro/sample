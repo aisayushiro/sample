{
 "cells": [
  {
   "cell_type": "code",
   "execution_count": null,
   "id": "f78a71c6",
   "metadata": {},
   "outputs": [],
   "source": [
    "print(\"コミットからプッシュまでを行おう！\")"
   ]
  }
 ],
 "metadata": {
  "language_info": {
   "name": "python"
  }
 },
 "nbformat": 4,
 "nbformat_minor": 5
}
