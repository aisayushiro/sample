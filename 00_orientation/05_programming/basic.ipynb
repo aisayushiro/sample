{
 "cells": [
  {
   "cell_type": "code",
   "execution_count": 5,
   "id": "771eeb76",
   "metadata": {},
   "outputs": [
    {
     "name": "stdout",
     "output_type": "stream",
     "text": [
      "x += 5: 15\n",
      "x *= 2: 30\n"
     ]
    }
   ],
   "source": [
    "x = 10\n",
    "x += 5\n",
    "print(\"x += 5:\", x)  # 15\n",
    "x *= 2\n",
    "print(\"x *= 2:\", x)  # 30"
   ]
  },
  {
   "cell_type": "code",
   "execution_count": 6,
   "id": "d6f52973",
   "metadata": {},
   "outputs": [
    {
     "name": "stdout",
     "output_type": "stream",
     "text": [
      "a & b: 0b1000\n",
      "a << 1: 0b11000\n"
     ]
    }
   ],
   "source": [
    "a = 0b1100  # 12\n",
    "b = 0b1010  # 10\n",
    "print(\"a & b:\", bin(a & b))  # 0b1000\n",
    "print(\"a << 1:\", bin(a << 1))  # 0b11000"
   ]
  },
  {
   "cell_type": "code",
   "execution_count": 7,
   "id": "dbe40cbc",
   "metadata": {},
   "outputs": [
    {
     "name": "stdout",
     "output_type": "stream",
     "text": [
      "3科目の平均点は 83.33333333333333 点です\n"
     ]
    }
   ],
   "source": [
    "# 各科目の点数を変数として定義\n",
    "japanese = 85  # 国語\n",
    "math = 90      # 数学\n",
    "english = 75   # 英語\n",
    "\n",
    "# 平均点を計算\n",
    "average = (japanese + math + english) / 3\n",
    "\n",
    "# 結果を表示\n",
    "print(\"3科目の平均点は\", average, \"点です\")"
   ]
  },
  {
   "cell_type": "code",
   "execution_count": null,
   "id": "5046a5cc",
   "metadata": {},
   "outputs": [],
   "source": [
    "# ユーザーに名前を入力してもらう\n",
    "name = a\n",
    "print(\"こんにちは、\" + name + \"さん！\")"
   ]
  }
 ],
 "metadata": {
  "kernelspec": {
   "display_name": "Python 3",
   "language": "python",
   "name": "python3"
  },
  "language_info": {
   "codemirror_mode": {
    "name": "ipython",
    "version": 3
   },
   "file_extension": ".py",
   "mimetype": "text/x-python",
   "name": "python",
   "nbconvert_exporter": "python",
   "pygments_lexer": "ipython3",
   "version": "3.12.7"
  }
 },
 "nbformat": 4,
 "nbformat_minor": 5
}
