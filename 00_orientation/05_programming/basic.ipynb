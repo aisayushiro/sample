{
 "cells": [
  {
   "cell_type": "code",
   "execution_count": 8,
   "id": "3a054911",
   "metadata": {},
   "outputs": [
    {
     "name": "stdout",
     "output_type": "stream",
     "text": [
      "処理を終了します\n"
     ]
    }
   ],
   "source": [
    "score = int(input(\"点数を入力してください: \"))\n",
    "\n",
    "if score >= 60:\n",
    "    print(\"合格です\")\n",
    "\n",
    "print(\"処理を終了します\")"
   ]
  },
  {
   "cell_type": "code",
   "execution_count": null,
   "id": "f09c12c0",
   "metadata": {},
   "outputs": [],
   "source": [
    "# [A]: 「税抜価格」をユーザーから取得し、数値に変換する\n",
    "\n",
    "\n",
    "# [B]: 「税込価格」を計算する（消費税率は10%）\n",
    "tax_rate = 0.10\n",
    "tax_included_price = [____B____]\n",
    "\n",
    "# [C]、[D]: 送料の計算（2000円以上かどうかを判定して分岐する）\n",
    "if [____C____]:\n",
    "    shipping_cost = 0\n",
    "    print(\"送料は無料です\")\n",
    "[____D____]\n",
    "    shipping_cost = 350\n",
    "    print(f\"送料は{shipping_cost}円です\")\n",
    "\n",
    "# [E]: 送料込税込価格を計算して、変数に代入する\n",
    "[____E____]\n",
    "\n",
    "# 「送料込税込価格」を少数を含めずに出力する\n",
    "print(f\"送料込税込価格は{total_price:.0f}円です\")"
   ]
  }
 ],
 "metadata": {
  "kernelspec": {
   "display_name": "Python 3",
   "language": "python",
   "name": "python3"
  },
  "language_info": {
   "codemirror_mode": {
    "name": "ipython",
    "version": 3
   },
   "file_extension": ".py",
   "mimetype": "text/x-python",
   "name": "python",
   "nbconvert_exporter": "python",
   "pygments_lexer": "ipython3",
   "version": "3.12.7"
  }
 },
 "nbformat": 4,
 "nbformat_minor": 5
}
